{
 "cells": [
  {
   "cell_type": "code",
   "execution_count": null,
   "metadata": {
    "colab": {
     "base_uri": "https://localhost:8080/"
    },
    "id": "DGqLgzFW6tYb",
    "outputId": "e14ca7b3-b84b-467a-a76a-19d428ddd744"
   },
   "outputs": [],
   "source": [
    "pip install faiss-cpu"
   ]
  },
  {
   "cell_type": "code",
   "execution_count": null,
   "metadata": {
    "colab": {
     "base_uri": "https://localhost:8080/"
    },
    "id": "k2RKx3y96waD",
    "outputId": "6514c108-44df-44f3-97e5-fbb324b5c10d"
   },
   "outputs": [],
   "source": [
    "pip install pypdf"
   ]
  },
  {
   "cell_type": "code",
   "execution_count": null,
   "metadata": {
    "id": "SFTjOCU6kZ7p"
   },
   "outputs": [],
   "source": [
    "import torch\n",
    "import faiss\n",
    "import pypdf\n",
    "import json\n",
    "import os\n",
    "import numpy as np\n",
    "import matplotlib.pyplot as plt\n",
    "\n",
    "from tqdm import tqdm\n",
    "from transformers import AutoTokenizer, AutoModelForCausalLM\n",
    "from sentence_transformers import SentenceTransformer\n",
    "from huggingface_hub import hf_hub_download"
   ]
  },
  {
   "cell_type": "code",
   "execution_count": null,
   "metadata": {
    "colab": {
     "base_uri": "https://localhost:8080/"
    },
    "id": "lDyikaRtA4bo",
    "outputId": "78bbdb5c-75a0-42dd-aedb-7710d02756f0"
   },
   "outputs": [],
   "source": [
    "from google.colab import drive\n",
    "drive.mount('/content/drive')\n",
    "\n",
    "%cd /content/drive/MyDrive/\"MA4 semester project\""
   ]
  },
  {
   "cell_type": "code",
   "execution_count": null,
   "metadata": {
    "id": "Y0Ky8V-zb4Dn"
   },
   "outputs": [],
   "source": [
    "import utils\n",
    "from utils import ChunkLoader, RAGEncoder, retrieve_relevant_docs, read_pdf, get_pdf_chunks, get_all_chunks"
   ]
  },
  {
   "cell_type": "code",
   "execution_count": null,
   "metadata": {
    "colab": {
     "base_uri": "https://localhost:8080/",
     "height": 734,
     "referenced_widgets": [
      "a81ca43f437e466fb5348e52640f4287",
      "59b3a81c331e414fa27674d40a0a1598",
      "aa7359b4de5e4ebabbc37b449f3174f1",
      "e671fc7dfda642f386d8bc49b2a6e2e1",
      "fd1c79f4a5ca4cf6941610226556b99b",
      "3765a41e73af44e0b13495149aa609e2",
      "b97cb8b42e7749589104698079cbbee9",
      "93ebb7fa26634200a2af8e6a8004b466",
      "44f210cf5d89483c98eba7d4ee8f7de8",
      "5039f19de2304e59878b3a8c0bebe15f",
      "c127c0a3fd824721a5882813bec6a34f",
      "c01235bb699f4b60800909ebbbc53e96",
      "fc229106b0774d539846597eeaab3c10",
      "0dc3456ecbb24af2b25ac2cfae3a1b8a",
      "39bf0bac5762411992392a792d00dfc2",
      "09d8e33811cd43508756653b16188242",
      "c66655266cfb40e0aa400775aed24206",
      "85c6d50dd4c1434399354358c3ebceda",
      "2e72bbc4cc6340a4817c1eca6a3770f5",
      "132df8b562de43259f63df0b9abe2259",
      "2b91d3d7194f4477a4cfa817d133eff9",
      "c7a1cab312434687bdcfc9027fb502dd",
      "f873b574e4544677aabac01c2737c3de",
      "61eb0ce5fef6402b84ffd484b96c4e66",
      "e4c6a5d17add4f5b896a9474b13847e4",
      "607741db268a42baa3b094093ff44339",
      "9e62b145e6c74cc0800bbc3a81f23a67",
      "115456c905a54728adb1a2ae747a3ce1",
      "2c136fad46f844f39dcede2b852ab31f",
      "b7a0b05b686342daaa91e39c57b5b188",
      "6edfc31338b34b12ada5826a6c7df335",
      "6ac60409d9b744ddb4bbeb370f03f740",
      "4747b07e9d0e4931ae440bd620e46cab",
      "6828fb7e9f8a4f7ba9ea4903f123bf7f",
      "22a944e826bb42c6b2373231a6b20b64",
      "80e28d10ef1b43bbb59752614cabd393",
      "7fdbc1d4203544239c1afd7d5612bf7c",
      "6afda32451834f6a879533c705bb5824",
      "3b30ba7a1f284f56b5cb7687dc1dd23a",
      "fc4ffcd10353433593f1ef96508bcc50",
      "0be41727272045869d150819d8078cbe",
      "afee546424f947bcb82939ba53f0103d",
      "58476db9eb1c4f9b910567894518de6f",
      "eb65646e2e9b4364a306542824b5db9d",
      "e253314574794c8c9c919efbd59ed69c",
      "17fc1f580694420face0630bd5188e59",
      "2d3be8dd417b45e099bc8c745d500127",
      "e3fa489b491142a491395f0ab039d090",
      "c70d54c4afac4ad3a97123551167f3a0",
      "ed273af843f24478a0f9d76a52d23c13",
      "145293966a9a46218ffdf314faf23aa4",
      "0aaa51202b5f4de685a305643e384655",
      "c15fefc53cac45bdad673d076e6c2ef3",
      "814685dc0adb4427a87033726368504a",
      "6124774155fc403da8eb8db331cc40bb",
      "2a1fd0a863944a1b9d0ca20b4a0c7873",
      "8262a3553841442c8852e7a425f57932",
      "e75f3f507a6b42d5a9d24622de36fed6",
      "aff3de6fc7c64ea1a29919f617c74004",
      "88a6787cd271470787699cb8577be642",
      "efe6c508734c496aa19de12e8df424ce",
      "cfb8cfaa94364ad39108970cfb86bef0",
      "2d4cf94ebe7440f38d956cb947296bfd",
      "a43661ba3b494b2898e661f424b93b95",
      "c5011363056644d5b145d9dc4426a0c3",
      "a9204fc940b2402985dd396c02419d9d",
      "02a16f6c3f684194acb2ab00460aea9a",
      "cf948ea3733340cd8006711631a68f95",
      "eb3621750d664bb79ceee90707ec8566",
      "e898a4fa36dc4a749b4ca5da01d85398",
      "0e1b0e85b7544fca89144373ddf50f43",
      "9a80538ccf7f4c4c8bcad2542e949e8e",
      "99920b79994f4a59bec384c5bea17f79",
      "53a5ffcf55f64fde84874766541835df",
      "813805c0be0e4612ad46d6e15c4b1ac2",
      "db4659dbc2444bad87d8377f5237ea5d",
      "5139bc04adc3466cb03dd9e3d3adc14e",
      "8775f2f0201d410c91b6706d1c679892",
      "c61b54877a2540479d0f1c46e426ea1e",
      "4dad7f0a38ab4743a0c3bbf88bea4f5d",
      "47cad2adf34747969cfd25be12c16259",
      "8396629b2523430b8d87c6160292882d",
      "f830d4b13cdd4de4922412167f6edaea",
      "31714ac4f7ce4383a1a45db992d22772",
      "d1ee38eb9cb344c5a0a9e4273464c2b1",
      "b443331a7dca4806892641a6bc6c11df",
      "c653171730174997b9a2ebd8428fb05f",
      "f92a2f1d7dc0406fb547afb162598fa3",
      "161daa72f437417d8f29172f5ae4cf28",
      "be49257dd8c4406cb0b312ecee86c0ff",
      "4832237a75204cd9a25cc58bba28a86e",
      "3890fc3b2b6e462a9a4262e5f3cd54a7",
      "bd603b3c6bd3481f8d98c37874cea8cf",
      "3a38a76ab2a24a6ca81fcd9b72de6fe1",
      "58519a8591a249f0a4abafe6a5ed3f77",
      "a027a3c586624d4395e4fb453587ae36",
      "77d7bdf8ccea45f5a6e8ad98db41e18e",
      "11b510663e2648ff80c4e1306ea44797",
      "66942e7338034fd2a3c06569d34ca4e5",
      "2e9984b7ddbc4041b8a3f0c296e03f12",
      "57fd653f51e74993bb87e0c6bcc0f0bb",
      "89a8fe62b1134ead986541a196df30fa",
      "bfcbfdcbd83c4fafb7f8387d92278adc",
      "3b592c469e8c4586929a7caebd2235ae",
      "c9c6ca3f5b7741f3a4b1cd3c8c3c7667",
      "9739ffa5c7d04f279717eccc7d7243e9",
      "2dee380190f34faaacb039e011239c08",
      "3115305c13fd42fda4c0d267329e6cae",
      "ec0e67ac5e3747afbb077f12d766e29d",
      "3ab5c1a07f7c4339b04e584e6bb038ca",
      "b8ca831b29e04befad6866e0a454b9bf",
      "e381b4252152454081974154d6b206fa",
      "59a4b8ce87224d16a21114fdce8eb6c0",
      "c4ceefebeb8d48afa44a3ea4a593d262",
      "03589721aebd4636bda1275072752534",
      "98a8feebdde24091b586ab0e282c2279",
      "0b629f9e7b7a49d4a59b84ade6b7ddba",
      "2b97405172f84ed89e355cd3c6ae18a3",
      "2f354ad167164e19bd6e2e93236a7e23",
      "e4cd595535ad4977b94b4151f519e054",
      "5425e748b68643a08b9f4c66a8d3edb8",
      "0b08393a56fc47a5b9129281862c0804",
      "6cccd6bd3db043c1a3694010d9d84dd7",
      "44d44754fcb6493abcb58adec8a91cb6",
      "97b2e2dd2c834b678036bd18d75657a4",
      "c5e5cfe634ab40e9b44befe3e7d39215",
      "4f8f3e8bf7174b0a9775978ab758e4f9",
      "c340b8e6c0fc49af94f147b499b96203",
      "5edbaf59024440b4b0ab3c44ecb9e9ec",
      "c3c11842d0684864bd318bfce16c05a3",
      "46cba1d3c8544ab8a7d8b592b40716f7",
      "8e8345e9307f4066b67877565816a89e",
      "28aeb007f4ee476987d68684e7175b6f",
      "31602a712d8f4e37b4bd4b657ce86c35",
      "19cfef2f2e204027a7892c00316a0038",
      "062beaa99adb466fb398dd07f03e3fe7",
      "0ada000f04c747608aaa57d5b1f11990",
      "78e64565cf724177b8037418ece9cddc",
      "817cd2a9be9f4868be7f8138aca32e9d",
      "0629528177ef49d5b1294f09e4233f87",
      "5b181233177e422caa6c711a68ca1878",
      "88da0ce6755646f79ccf2aff872f560c",
      "8a3894bc34f74ab9bf2bc7d4f1bb22eb",
      "7abd973af6e145878b75e8949bbd756e",
      "eccc7ebf41f84bd5aede8d16dfeafc0c",
      "b407325ff049427a8a5063e8be92b5a1",
      "91f8619801834762922a09dd8a69bf23",
      "a564f526e07a4ba7ab4a154af4d4584f",
      "7dc1f67c2b7d46caaa7d266fd72f0bfb",
      "aee6f3e4de834758943402e2e831ca8f",
      "80c1a3790b504078883d551ce0abc182",
      "23ab5103880a4cf298094bb6ed40a280",
      "175e42545afa4b88a43357ee5579ba4a",
      "f73b2694af664f3db02f9673c35eb786",
      "a85df877d46d4f038aabb809778be355",
      "ef1edf78e46e42efa1d0e892cc3bcb62",
      "2ae73830e6044bf7a123032c33b22ed2",
      "b47449c344864e83895ce559165fc7ab",
      "01db194caa4847d2bb6e72adc042b325",
      "809e41ac494f44b781e76f1bb0e978b3",
      "a10cae3e1b854aecbd12413c3b7ec438",
      "c99c7d86609a44638ebc73dcd10d8a90",
      "beced7a2cd874fa290b600ba38209edd",
      "3f02f7d5a53147dfae44f529a5706360",
      "9d2e787aca35426bb12a68708c28c2cd",
      "31f5a3b09aa44840afb97d6f2d40810a",
      "069b53b65da749e392a2cce97fb27592",
      "04e5d02477f240bda1f2b5c37ea119d4",
      "c6210a96a71f4139b777fd9f89d2e35d",
      "aacc7072a00844819a2d9884c455137b",
      "adca251f977c4965b3fc137e90ba9ac3",
      "09ca3384408a47578583356599e9e260",
      "5cc72aa38a884f4399fc226fb8654a12",
      "8256beb6e02043c3aeb7747a95720ea7",
      "60777cd0be9b4734848b75b28186eb64",
      "1fb468ff443b4b48b787d0096e76378c",
      "15cf96d02a244beab04eb160c11f9280",
      "ff57af8811ed4b1c93e7b188c94db250",
      "f9839fdcecb64a1992c3d165c51b9944",
      "7b3edd0f8306489a8ccf638b5c6ca019",
      "e7c29bc17e6e408c919017fb11a3da37",
      "b6e81ea6733e48bb94eb74873d619ac4",
      "238340612984482d87cb12b369b2d047",
      "2bd9b255d2ee42c8b670b0de2be12ab2",
      "d1f7a2651492470883f95db3a76ee7b0",
      "8493c8e0a91e4ee88d330b7d2c5d7c54",
      "be8d114436a943468bf7c1a590f7aa94",
      "085fef1d07d64a1381ac90b68351cd72",
      "69a45a9475e34c149de06708c99c2b18",
      "4283f9511d2d41f9827b007b26e4d866",
      "6fe97e008dfd4d51a245607ca8ef93e2",
      "418dd04ad39b4565812de77229905c2c",
      "9080876dd3e34faa865f01e0c7cd7664",
      "174c950416a940de88f6ae4a15080a75",
      "df17eb2b33eb4252a88a7d80d211e531",
      "ffac7653617c4166bd5ac225b66b56ba",
      "94e142ee1d524a46a6057bc50b61865e",
      "376984983a694e4b991050c11d1b18b2"
     ]
    },
    "id": "YA-Mx0-oW2Ta",
    "outputId": "df6e91eb-a267-4ded-e5a3-d686b2162e94"
   },
   "outputs": [],
   "source": [
    "MAX_CHUNK_SIZE = 256\n",
    "OVERLAP = int(0.2*MAX_CHUNK_SIZE)\n",
    "\n",
    "#GPT2 was released in the year 2019 --> 2020\n",
    "tokenizer = AutoTokenizer.from_pretrained(\"openai-community/gpt2\")\n",
    "model = AutoModelForCausalLM.from_pretrained(\"openai-community/gpt2\")\n",
    "tokenizer.add_special_tokens({'pad_token': '<|pad|>'})\n",
    "embedding_layer = model.resize_token_embeddings(len(tokenizer))\n",
    "model.config.pad_token_id = tokenizer.pad_token_id\n",
    "\n",
    "rag_encoder_model = SentenceTransformer('sentence-transformers/all-MiniLM-L6-v2')\n",
    "rag_encoder_tokenizer = AutoTokenizer.from_pretrained('sentence-transformers/all-MiniLM-L6-v2')"
   ]
  },
  {
   "cell_type": "code",
   "execution_count": null,
   "metadata": {
    "colab": {
     "base_uri": "https://localhost:8080/"
    },
    "id": "elQIA8p05s0x",
    "outputId": "52cf516c-bf1b-4df3-e12d-18b027533a8d"
   },
   "outputs": [],
   "source": [
    "#The embedding size for GPT small is 768\n",
    "print(\"The vocabulary length for the GPT2 small model is:\", len(tokenizer))\n",
    "print(\"The number of parameters for the GPT2 small model is:\", sum(p.numel() for p in model.parameters()))\n",
    "print(\"The max sentence length for this model is {}\".format(tokenizer.model_max_length))\n",
    "print(\"The beginning of sequence token {} token has the id {}\".format(tokenizer.convert_ids_to_tokens(tokenizer.bos_token_id), tokenizer.bos_token_id))\n",
    "print(\"The end of sequence token {} has the id {}\".format(tokenizer.convert_ids_to_tokens(tokenizer.eos_token_id), tokenizer.eos_token_id))\n",
    "print(\"The pad token {} has the id {}\".format(tokenizer.convert_ids_to_tokens(tokenizer.pad_token_id), tokenizer.pad_token_id))"
   ]
  },
  {
   "cell_type": "markdown",
   "metadata": {
    "id": "xntqVHNRXSGK"
   },
   "source": [
    "# Getting the chunks and their corresponding embeddings"
   ]
  },
  {
   "cell_type": "code",
   "execution_count": null,
   "metadata": {
    "id": "U04de2nmWuHP"
   },
   "outputs": [],
   "source": [
    "all_chunks = get_all_chunks(\"./RAG documents/past-2021\", tokenizer, MAX_CHUNK_SIZE, OVERLAP)\n",
    "len(all_chunks)"
   ]
  },
  {
   "cell_type": "code",
   "execution_count": null,
   "metadata": {
    "colab": {
     "base_uri": "https://localhost:8080/",
     "height": 527
    },
    "id": "bFguECSaF98N",
    "outputId": "30205ca4-c070-47e2-c04f-a0541ba47c0e"
   },
   "outputs": [],
   "source": [
    "nb_words = []\n",
    "nb_chars = []\n",
    "nb_tokens = []\n",
    "for chunk in all_chunks:\n",
    "  nb_words_chunk = len(chunk.split(' '))\n",
    "  nb_chars_chunk = len(chunk)\n",
    "  nb_tokens_chunk = len(tokenizer.encode(chunk))\n",
    "  nb_words.append(nb_words_chunk)\n",
    "  nb_chars.append(nb_chars_chunk)\n",
    "  nb_tokens.append(nb_tokens_chunk)\n",
    "\n",
    "\n",
    "# Disclaimer: this part of the code was generated by chatGPT as it's only used for visualization\n",
    "# purposes for me to check if everything is as intended and is not part of the coding logic.\n",
    "fig, axes = plt.subplots(1, 3, figsize=(15, 5))  # Create 3 subplots in one row\n",
    "\n",
    "# Plot the number of words\n",
    "axes[0].hist(nb_words, bins=100)\n",
    "axes[0].set_title('Number of Words per Chunk')\n",
    "axes[0].set_xlabel('Number of Words')\n",
    "axes[0].set_ylabel('Frequency')\n",
    "\n",
    "# Plot the number of characters\n",
    "axes[1].hist(nb_chars, bins=100)\n",
    "axes[1].set_title('Number of Characters per Chunk')\n",
    "axes[1].set_xlabel('Number of Characters')\n",
    "axes[1].set_ylabel('Frequency')\n",
    "\n",
    "# Plot the number of tokens\n",
    "axes[2].hist(nb_tokens, bins=100)\n",
    "axes[2].set_title('Number of Tokens per Chunk')\n",
    "axes[2].set_xlabel('Number of Tokens')\n",
    "axes[2].set_ylabel('Frequency')\n",
    "\n",
    "plt.tight_layout() # Adjust spacing between subplots\n",
    "plt.show()"
   ]
  },
  {
   "cell_type": "code",
   "execution_count": null,
   "metadata": {
    "id": "wE1gPnLg9qsq"
   },
   "outputs": [],
   "source": [
    "with open(\"chunks.jsonl\", \"w\", encoding=\"utf-8\") as f:\n",
    "    for chunk in all_chunks:\n",
    "        f.write(json.dumps({\"chunk\": chunk}) + \"\\n\")"
   ]
  },
  {
   "cell_type": "code",
   "execution_count": null,
   "metadata": {
    "id": "THmzjAL_PI1b"
   },
   "outputs": [],
   "source": [
    "all_vectors = []\n",
    "for chunk in tqdm(all_chunks, desc=\"vectorizing the chunks...\"):\n",
    "  # inputs = tokenizer(chunk, return_tensors='pt')\n",
    "  # with torch.no_grad():\n",
    "  #   chunk_embedding = model(**inputs).last_hidden_state[:, 0, :].numpy()\n",
    "  chunk_embedding = rag_encoder_model.encode(chunk)\n",
    "  all_vectors.append(chunk_embedding)\n",
    "\n",
    "all_vectors_array = np.vstack(all_vectors)\n",
    "np.save('embeddings', all_vectors_array)"
   ]
  },
  {
   "cell_type": "markdown",
   "metadata": {
    "id": "fdrw1Dk3Xhe2"
   },
   "source": [
    "# Retrieval Augmented Generation"
   ]
  },
  {
   "cell_type": "code",
   "execution_count": null,
   "metadata": {
    "colab": {
     "base_uri": "https://localhost:8080/",
     "height": 98,
     "referenced_widgets": [
      "8597036a09424489ae6b2960d51b612f",
      "421329592a0542ca903f46dc452926ed",
      "55c21bfc1b2a41b693b453945407d4f7",
      "f0d09680000b4545807c3c3a44a378f3",
      "30b7fb8edeae463ea13497c5606e279a",
      "d8611a11776444fdb980d256d18c1234",
      "0151fef9cdf34b1abac7b7b7e8fa2cc4",
      "bc3ef9611b414e7893d1f15e12f83e8e",
      "59cbd6fa39054fef9bf78f58c5fac1e9",
      "e114de5db80444d2bc9727c299150a37",
      "f75017c9f9274f2387e9b0e8ef2cc94a",
      "63b4f1802bb9457aaf91e1b52988cb7f",
      "03c04e365d474317a03915c56e8ba75e",
      "03a8e7a324334de49af18aa25565bfb6",
      "5f5c8c02b4d0466da4dc78b837067e79",
      "50b37bf917204ae389d85233c355b602",
      "96cfc3e8872e454c9dbb92a0694c95be",
      "5a07f278b58f4c04a85d987a0ec77bc9",
      "9c7bcefbb8074df1bed033fe74ced32d",
      "661c894b6d6145a896c7e72b07643b82",
      "fa88205d0b2b4f038be05684597de8f4",
      "f20e95cc82bb419c80249e6c634190f9"
     ]
    },
    "id": "NFzPvTl0cQKu",
    "outputId": "6832ee13-b471-441a-9c97-a23f3fdb4be0"
   },
   "outputs": [],
   "source": [
    "# Load chunks and their corresponding embeddings\n",
    "chunks_file = hf_hub_download(repo_id=\"ziedM/rag_dataset\", filename=\"chunks.jsonl\", repo_type=\"dataset\")\n",
    "chunks = ChunkLoader.load_chunks(chunks_file)\n",
    "embeddings_file = hf_hub_download(repo_id=\"ziedM/rag_dataset\", filename=\"embeddings.npy\", repo_type=\"dataset\")\n",
    "chunks_embeddings = np.load(embeddings_file)\n",
    "faiss.normalize_L2(chunks_embeddings)\n",
    "print(chunks_embeddings.shape)\n",
    "\n",
    "# Initialize FAISS index\n",
    "embedding_dimension = chunks_embeddings.shape[1]\n",
    "#inner product based similarity score (in our case, same as cosine as vectors are normalised)\n",
    "index = faiss.IndexFlatIP(embedding_dimension)\n",
    "index.add(chunks_embeddings)\n",
    "\n",
    "# Initialize question encoder\n",
    "question_encoder_model = SentenceTransformer('sentence-transformers/all-MiniLM-L6-v2')\n",
    "question_encoder = RAGEncoder(question_encoder_model, None)\n",
    "# question_encoder_model = AutoModel.from_pretrained('sentence-transformers/all-MiniLM-L6-v2')\n",
    "# question_encoder_tokenizer = AutoTokenizer.from_pretrained('sentence-transformers/all-MiniLM-L6-v2')\n",
    "# question_encoder = QuestionEncoder(question_encoder_model, question_encoder_tokenizer)"
   ]
  },
  {
   "cell_type": "code",
   "execution_count": null,
   "metadata": {
    "colab": {
     "base_uri": "https://localhost:8080/"
    },
    "id": "EDjn9CClN4yU",
    "outputId": "d5864962-83d8-4f93-d7da-f5c36b82b9aa"
   },
   "outputs": [],
   "source": [
    "question = \"What will the most impactful deep technologies in the next 5 years be?\"\n",
    "relevant_docs = retrieve_relevant_docs(question, index, chunks, question_encoder, topk=3)\n",
    "formatted_query = (\n",
    "    \"Using the provided context, answer the given question.\\n\"\n",
    "    + \"Context: {}\\n\"\n",
    "    + \" Question: {}\\n\"\n",
    "    + \" Answer: \"\n",
    ").format(relevant_docs, question)"
   ]
  },
  {
   "cell_type": "code",
   "execution_count": null,
   "metadata": {
    "id": "RtJQ-0-NXYJm"
   },
   "outputs": [],
   "source": [
    "inputs = tokenizer(formatted_query, return_tensors='pt', truncation=True, max_length=tokenizer.model_max_length)\n",
    "outputs = model(**inputs)"
   ]
  },
  {
   "cell_type": "code",
   "execution_count": null,
   "metadata": {
    "id": "YFRPBU9lfxLN"
   },
   "outputs": [],
   "source": [
    "gen = model.generate(**inputs, pad_token_id=tokenizer.pad_token_id, num_beams=4, do_sample=True, top_p=0.95, max_new_tokens=tokenizer.model_max_length-inputs.input_ids.shape[1])"
   ]
  },
  {
   "cell_type": "code",
   "execution_count": null,
   "metadata": {
    "colab": {
     "base_uri": "https://localhost:8080/"
    },
    "id": "JBxGc5bylA_O",
    "outputId": "d5130550-0b34-4793-edcd-dbc56b2b28b0"
   },
   "outputs": [],
   "source": [
    "print(tokenizer.decode(gen[0]))"
   ]
  },
  {
   "cell_type": "code",
   "execution_count": null,
   "metadata": {
    "id": "MylQPs4wo5__"
   },
   "outputs": [],
   "source": []
  }
 ],
 "metadata": {
  "colab": {
   "provenance": []
  },
  "kernelspec": {
   "display_name": "Python 3 (ipykernel)",
   "language": "python",
   "name": "python3"
  },
  "language_info": {
   "codemirror_mode": {
    "name": "ipython",
    "version": 3
   },
   "file_extension": ".py",
   "mimetype": "text/x-python",
   "name": "python",
   "nbconvert_exporter": "python",
   "pygments_lexer": "ipython3",
   "version": "3.9.18"
  }
 },
 "nbformat": 4,
 "nbformat_minor": 1
}
